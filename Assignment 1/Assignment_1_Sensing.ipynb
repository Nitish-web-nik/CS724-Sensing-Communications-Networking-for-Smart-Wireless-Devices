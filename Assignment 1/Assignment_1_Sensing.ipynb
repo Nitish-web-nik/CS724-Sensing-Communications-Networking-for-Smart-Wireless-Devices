{
 "cells": [
  {
   "cell_type": "markdown",
   "id": "54bfbbeb",
   "metadata": {},
   "source": [
    "## Assignment - 1 Sensing Communications and Networking for Smart Wireless Devices "
   ]
  },
  {
   "cell_type": "markdown",
   "id": "51235062",
   "metadata": {},
   "source": [
    "Question 1 (30 points) \n",
    "\n",
    "<br>\n",
    "1. A = \n",
    "1 0\n",
    "0 1\n",
    "    What is 𝐶 (𝐴) ?\n",
    "\n",
    "Answer:- The column Space of the A i.e. C(A) = R2, since both the column vectors are independent to each other. \\\n",
    "<br>\n",
    "2. B =\n",
    "1 2\n",
    "2 4\n",
    "    What is 𝐶 (𝐵) ?\n",
    "\n",
    "Answer:- The column Space of the B i.e. C(B) = R1, since we can obtain the column vector 2 as C2 = C1 * 2 or C2 is linearly               dependent on C1.\n",
    "<br>  \n",
    "3. 𝐷 =\n",
    "1 2 3\n",
    "0 0 4\n",
    "    What is 𝐶 (𝐷) ?\n",
    "\n",
    "Answer:- The column Space of the D i.e. C(D) = R2, since we can obtain the column vector 2 as C2 = C1 * 2 and the number of                linearly independent vectors are 2.\n"
   ]
  },
  {
   "cell_type": "markdown",
   "id": "0800b516",
   "metadata": {},
   "source": [
    "Question 2 (50 points) \\\n",
    "<br>\n",
    "2) Write a program (in any convenient language, like Python/Matlab) that emulates\n",
    "an user localization using GPS. Use the following steps for doing this emulation.\n",
    "Also submit a report with relevant results and explainations."
   ]
  },
  {
   "cell_type": "markdown",
   "id": "362aa6c4",
   "metadata": {},
   "source": [
    "(a) Fix the user at (100,100,100). Put 5 satellites at any random locations (you can\n",
    "manually put their locations), and fix their positions. Now calculate the time it\n",
    "takes for a signal to arrive from each one of these satellites to the user."
   ]
  },
  {
   "cell_type": "code",
   "execution_count": 11,
   "id": "6539d017",
   "metadata": {},
   "outputs": [
    {
     "name": "stdout",
     "output_type": "stream",
     "text": [
      "0.0042238292658045105\n",
      "0.0027639987739183644\n",
      "0.002685893250960573\n",
      "0.004283277600156217\n",
      "0.003766527003310432\n"
     ]
    }
   ],
   "source": [
    "import numpy as np\n",
    "\n",
    "from math import sqrt\n",
    "\n",
    "user_loc = [100,100,100]\n",
    "\n",
    "satellites=[[860000,720000,590000],[210000,140000,790000],[-560000,210000,540000],[960000,390000,-760000],[-616600,666000,-673000]]\n",
    "\n",
    "time = []\n",
    "\n",
    "speed = 3*10**8 \n",
    " \n",
    "for  j in satellites:\n",
    "    \n",
    "    temp = sqrt((j[0]-user_loc[0])**2 + (j[1]-user_loc[1])**2 + (j[2]-user_loc[2])**2)\n",
    "    time.append(temp/speed)\n",
    "for j in time:\n",
    "    print(j)  "
   ]
  },
  {
   "cell_type": "markdown",
   "id": "f9732fdb",
   "metadata": {},
   "source": [
    "(b) Now lets do the opposite operation, i.e. use the satellite locations and the\n",
    "times to find out the location of the user. Check whether it is coming exactly\n",
    "as (100,100,100).\n"
   ]
  },
  {
   "cell_type": "code",
   "execution_count": 12,
   "id": "c335821a",
   "metadata": {},
   "outputs": [
    {
     "name": "stdout",
     "output_type": "stream",
     "text": [
      "[[100.]\n",
      " [100.]\n",
      " [100.]]\n"
     ]
    }
   ],
   "source": [
    "distance = []\n",
    "\n",
    "for i in time:\n",
    "    distance.append(i*speed)\n",
    "    \n",
    "\n",
    "P = [ [0 for y in range(4)] for x in range(4)]\n",
    "Q = [ [0 for y in range(1)] for x in range(4)]\n",
    "\n",
    "for i in range(4):\n",
    "    for j in range(3):\n",
    "        P[i][j] = 2*(satellites[i+1][j] -satellites[i][j])\n",
    "        P[i][3]=2*(distance[i]-distance[i+1])\n",
    "\n",
    "        \n",
    "for i in range(4):\n",
    "    Q[i][0]=distance[i]**2 - distance[i+1]**2\n",
    "    for j in range(3):\n",
    "        Q[i][0] +=  (satellites[i+1][j]**2 - satellites[i][j]**2 )\n",
    "\n",
    "Y = np.dot(np.linalg.inv(np.array(P)),Q)\n",
    "\n",
    "print (Y[:3])"
   ]
  },
  {
   "cell_type": "markdown",
   "id": "3bd698f9",
   "metadata": {},
   "source": [
    "(c) Now add some random errors with the times (you can use function likes\n",
    "“rand” in matlab). Check how much location inaccuracy it showing up."
   ]
  },
  {
   "cell_type": "code",
   "execution_count": 17,
   "id": "5d30d897",
   "metadata": {},
   "outputs": [
    {
     "name": "stdout",
     "output_type": "stream",
     "text": [
      "0.9596143919401493\n"
     ]
    }
   ],
   "source": [
    "import random\n",
    "dist=[]\n",
    "\n",
    "for i in time:\n",
    "    dist.append((i+ random.uniform(0.000000001,0.000000009))*speed)\n",
    "\n",
    "a = [ [0 for y in range(4)] for x in range(4)]\n",
    "b = [ [0 for y in range(1)] for x in range(4)]\n",
    "\n",
    "for i in range(4):\n",
    "    for j in range(3):\n",
    "        a[i][j] = 2*(satellites[i+1][j] -satellites[i][j])\n",
    "        a[i][3]=2*(dist[i]-dist[i+1])\n",
    "for i in range(4):\n",
    "    b[i][0]=dist[i]**2 - dist[i+1]**2\n",
    "    for j in range(3):\n",
    "        b[i][0] +=  (satellites[i+1][j]**2 - satellites[i][j]**2 )    \n",
    "Z = np.dot(np.linalg.inv(np.array(a)),b)\n",
    "\n",
    "error = sqrt((Z[0]-x[0])**2+(Z[1]-x[1])**2+(Z[2]-Z[2])**2)\n",
    "print(error)"
   ]
  },
  {
   "cell_type": "markdown",
   "id": "13fc0967",
   "metadata": {},
   "source": [
    "(d) Now increase the amount of the random errors with time, and check what is\n",
    "the effect of this change on the localization error. You can plot a graph on the\n",
    "amount of timing errors vs localization error to see the effect. You need to run\n",
    "the program multiple time and then can take the average localization errors)."
   ]
  },
  {
   "cell_type": "code",
   "execution_count": 24,
   "id": "5d34220a",
   "metadata": {},
   "outputs": [],
   "source": [
    "import matplotlib.pyplot as plt\n",
    "errorlist=[]\n",
    "\n",
    "for outer in range(10):\n",
    "    error = []\n",
    "    for kk in range(30 ):\n",
    "        t2 = []\n",
    "        for i in range(len(time)):\n",
    "            z = random.uniform(0.00000001,0.00000009)\n",
    "            t2.append(time[i]+ 2*outer*z)\n",
    "        for i in range(len(dist)):\n",
    "            dist[i] = t2[i]*speed\n",
    "        for i in range(4):\n",
    "            a[i][3]=2*(dist[i]-dist[i+1])\n",
    "        for i in range(4):\n",
    "            b[i][0]=dist[i]**2 - dist[i+1]**2\n",
    "            for j in range(3):\n",
    "                b[i][0] +=  (satellites[i+1][j]**2 - satellites[i][j]**2 )    \n",
    "        x = np.matmul(np.linalg.inv(np.array(a)),b)\n",
    "        error.append(sqrt((Z[0]-x[0])**2+(Z[1]-x[1])**2+(Z[2]-x[2])**2))\n",
    "    sum=0\n",
    "    for i in range(30): \n",
    "        sum+=error[i]\n",
    "    errorlist.append(sum/30)\n",
    "\n",
    "    "
   ]
  },
  {
   "cell_type": "code",
   "execution_count": 25,
   "id": "d07af88b",
   "metadata": {},
   "outputs": [
    {
     "data": {
      "image/png": "[encoded data removed]",
      "text/plain": [
       "<Figure size 640x480 with 1 Axes>"
      ]
     },
     "metadata": {},
     "output_type": "display_data"
    }
   ],
   "source": [
    "plt.plot(errorlist)\n",
    "plt.show()\n",
    "    "
   ]
  },
  {
   "cell_type": "code",
   "execution_count": null,
   "id": "177a80e3",
   "metadata": {},
   "outputs": [],
   "source": []
  }
 ],
 "metadata": {
  "kernelspec": {
   "display_name": "Python 3 (ipykernel)",
   "language": "python",
   "name": "python3"
  },
  "language_info": {
   "codemirror_mode": {
    "name": "ipython",
    "version": 3
   },
   "file_extension": ".py",
   "mimetype": "text/x-python",
   "name": "python",
   "nbconvert_exporter": "python",
   "pygments_lexer": "ipython3",
   "version": "3.11.3"
  }
 },
 "nbformat": 4,
 "nbformat_minor": 5
}
