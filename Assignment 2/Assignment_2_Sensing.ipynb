{
 "cells": [
  {
   "cell_type": "markdown",
   "id": "f61c7785",
   "metadata": {},
   "source": [
    "# Assignment 2\n",
    "\n",
    "Firstly, I have collected the data from the app \"WiFi Analyzer\" and make a list of distance and RSSI as given below.\n",
    "After that I have converted the distance in log10(x).\n",
    "\n",
    "Now, using matplotlib library graph has been plotted and using polyfit(inbuilt funtion to find best fit) I have calculated slope and intercept value.\n",
    "\n",
    "By using the formula - path loss exponent is equal to absolute value of slop/10, I have calculated path loss exponent.\n",
    "And then show the path loss exponent and variance in the last. "
   ]
  },
  {
   "cell_type": "code",
   "execution_count": 31,
   "id": "e0b7843c",
   "metadata": {},
   "outputs": [
    {
     "name": "stdout",
     "output_type": "stream",
     "text": [
      "Path Loss exponent  1.399541922468965\n",
      "Variance of the RSSI value  61.642105263157895\n"
     ]
    },
    {
     "data": {
      "image/png": "[encoded data removed]",
      "text/plain": [
       "<Figure size 432x288 with 1 Axes>"
      ]
     },
     "metadata": {
      "needs_background": "light"
     },
     "output_type": "display_data"
    }
   ],
   "source": [
    "import numpy as np\n",
    "from matplotlib import pyplot as plt\n",
    "import statistics\n",
    "from math import log10\n",
    "\n",
    "#Reported the distance and RSSI value from the wifi Analyzer APP\n",
    "distance = [7, 6, 5, 4, 13, 33, 29, 26, 21, 16, 17, 69, 98, 62, 174, 195, 3, 22,9,12]\n",
    "RSSI = [-64, -63,-61 , -59, -68, -71, -76, -63, -64, -66, -70, -79, -80, -79, -83, -81, -57,-67,-66,-67]\n",
    "\n",
    "Distance = [log10(x) for x in distance] #convert the distance in log\n",
    "\n",
    "\n",
    "\n",
    "#plot the graph \n",
    "plt.scatter(Distance,RSSI,color='blue')\n",
    "plt.xlabel(\"Distance\")\n",
    "plt.ylabel(\"RSSI value\")\n",
    "\n",
    "#calculate the best fit line to the points \n",
    "best_fit=np.polyfit(Distance,RSSI,1)\n",
    "best_fit_fn = np.poly1d(best_fit)\n",
    "\n",
    "x_s=np.arange(0,5)\n",
    "plt.plot(x_s,best_fit_fn(x_s),color=\"green\")\n",
    "\n",
    "#slope of the best fit line\n",
    "slope_of_best_fit = best_fit[0]\n",
    "\n",
    "#calculate the path lost exponent value by the formula given below\n",
    "path_loss_exponent = abs(slope_of_best_fit/10)\n",
    "\n",
    "print(\"Path Loss exponent \",path_loss_exponent)\n",
    "print(\"Variance of the RSSI value \",statistics.variance(RSSI))\n",
    "\n",
    "\n",
    "\n",
    "plt.show()"
   ]
  },
  {
   "cell_type": "markdown",
   "id": "d8b31c45",
   "metadata": {},
   "source": [
    "# Step 2\n",
    "\n",
    "By considering d0 as 1 meter, the value of log(d0) to base 10 is 0.\n",
    "And Power at this point is the intercept of the graphs as we have calculated in the previous step.\n",
    "So, Power at d0 is best_fit[1] (calculated above)\n",
    "\n",
    "Now, To calculate the distance we will use the formula as given in the assignment sheet."
   ]
  },
  {
   "cell_type": "code",
   "execution_count": 32,
   "id": "971bf489",
   "metadata": {},
   "outputs": [
    {
     "name": "stdout",
     "output_type": "stream",
     "text": [
      "Average distance error of the five data is  0.35411791928909103\n"
     ]
    }
   ],
   "source": [
    "from statistics import mean\n",
    "\n",
    "#intercept of best fit line gives power at d0\n",
    "power_at_d0 = best_fit[1]\n",
    "\n",
    "#list of power calculated at different places\n",
    "# distance = [7,8,21,26,29,33]\n",
    "\n",
    "# RSSI=[-65,-66,-74,-76,-77,-78]\n",
    "\n",
    "RSSI =[-65, -50, -96, -85, -75]\n",
    "distance =  [1.04139269, 0.77815125, 2.54032947, 2.24054925, 1.74036269]\n",
    "\n",
    "#list of error in distance taken and distance calculated\n",
    "error_list = []\n",
    "\n",
    "\n",
    "# function to caalculate the estimated distance by formula\n",
    "def give_distance(power):\n",
    "    \n",
    "    #calculate estimated distance in log\n",
    "    estimated_distance = (power_at_d0-power)/(10*path_loss_exponent)\n",
    "    return estimated_distance\n",
    "    \n",
    "\n",
    "\n",
    "\n",
    "for i in range(5):\n",
    "    cal_distance = give_distance(RSSI[i])\n",
    "    \n",
    "    error_list.append(abs(cal_distance-distance[i]))\n",
    "\n",
    "average_error = mean(error_list)\n",
    "\n",
    "print(\"Average distance error of the five data is \",average_error)\n"
   ]
  }
 ],
 "metadata": {
  "kernelspec": {
   "display_name": "Python 3 (ipykernel)",
   "language": "python",
   "name": "python3"
  },
  "language_info": {
   "codemirror_mode": {
    "name": "ipython",
    "version": 3
   },
   "file_extension": ".py",
   "mimetype": "text/x-python",
   "name": "python",
   "nbconvert_exporter": "python",
   "pygments_lexer": "ipython3",
   "version": "3.12.3"
  }
 },
 "nbformat": 4,
 "nbformat_minor": 5
}
